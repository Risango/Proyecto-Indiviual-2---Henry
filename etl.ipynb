{
 "cells": [
  {
   "cell_type": "code",
   "execution_count": 22,
   "metadata": {},
   "outputs": [],
   "source": [
    "# Se descargan librerías necesarias para trabajar\n",
    "import pandas as pd\n",
    "import sqlite3 as sq\n",
    "import warnings\n",
    "\n",
    "# Definir el path del archivo\n",
    "path = './DB/homicidios.xlsx'\n",
    "\n",
    "# Se eliminan warns\n",
    "warnings.filterwarnings(\"ignore\", category=FutureWarning)\n",
    "warnings.filterwarnings(\"ignore\", category=UserWarning)\n"
   ]
  },
  {
   "cell_type": "code",
   "execution_count": 23,
   "metadata": {},
   "outputs": [],
   "source": [
    "# Cargar los datos\n",
    "dataHechos = pd.read_excel(path, sheet_name='HECHOS')\n",
    "dataVictimas = pd.read_excel(path, sheet_name='VICTIMAS')"
   ]
  },
  {
   "cell_type": "code",
   "execution_count": 24,
   "metadata": {},
   "outputs": [],
   "source": [
    "# Se genera una conexión local de BD\n",
    "conex = sq.connect('pbi.db')"
   ]
  },
  {
   "cell_type": "code",
   "execution_count": 14,
   "metadata": {},
   "outputs": [],
   "source": [
    "# Convertir la columna 'HORA' a tipo datetime\n",
    "dataHechos['HORA'] = pd.to_datetime(dataHechos['HORA'], format='%H:%M:%S', errors='coerce')\n",
    "dataHechos['HORA'].fillna(pd.Timestamp('00:00:00'), inplace=True)\n",
    "\n",
    "# Convertir la columna 'FECHA' a tipo datetime\n",
    "dataHechos['FECHA'] = pd.to_datetime(dataHechos['FECHA'], format='%d/%m/%Y', errors='coerce')\n",
    "\n",
    "# Convertir la columna 'EDAD' a numérico\n",
    "dataVictimas['EDAD'] = pd.to_numeric(dataVictimas['EDAD'], errors='coerce')\n",
    "dataVictimas['EDAD'].fillna(0, inplace=True)"
   ]
  },
  {
   "cell_type": "code",
   "execution_count": 15,
   "metadata": {},
   "outputs": [],
   "source": [
    "# Eliminar columnas con más del 90% de valores faltantes\n",
    "umbral_nulos = 0.9\n",
    "porcentaje_nulos_hechos = dataHechos.isnull().mean()\n",
    "columnas_a_eliminar_hechos = porcentaje_nulos_hechos[porcentaje_nulos_hechos > umbral_nulos].index\n",
    "dataHechos.drop(columns=columnas_a_eliminar_hechos, inplace=True)"
   ]
  },
  {
   "cell_type": "code",
   "execution_count": 16,
   "metadata": {},
   "outputs": [
    {
     "data": {
      "text/plain": [
       "696"
      ]
     },
     "execution_count": 16,
     "metadata": {},
     "output_type": "execute_result"
    }
   ],
   "source": [
    "# Se manda información a la base de datos local\n",
    "dataHechos.to_sql('hechos', con=conex, if_exists='replace', index=False)\n",
    "dataVictimas.to_sql('victimas', con=conex, index=False, if_exists='replace')"
   ]
  },
  {
   "cell_type": "code",
   "execution_count": 20,
   "metadata": {},
   "outputs": [
    {
     "data": {
      "text/plain": [
       "717"
      ]
     },
     "execution_count": 20,
     "metadata": {},
     "output_type": "execute_result"
    }
   ],
   "source": [
    "# Se genera una sola tabla con un join, entre las tablas de hechos y victimas\n",
    "query = \"\"\"\n",
    "SELECT \n",
    "    H.ID, H.N_VICTIMAS, H.FECHA AS HECHO_FECHA, H.AAAA, H.MM, H.DD, H.HORA, H.HH,\n",
    "    H.LUGAR_DEL_HECHO, H.TIPO_DE_CALLE, H.Calle, H.Cruce, H.`Dirección Normalizada`,\n",
    "    H.COMUNA, H.`XY (CABA)`, H.`pos x`, H.`pos y`, H.PARTICIPANTES, H.VICTIMA AS HECHO_VICTIMA, H.ACUSADO,\n",
    "    V.FECHA AS VICTIMA_FECHA, V.ROL, V.VICTIMA AS VICTIMA_VICTIMA, V.SEXO, V.EDAD, V.FECHA_FALLECIMIENTO\n",
    "FROM hechos H\n",
    "LEFT JOIN victimas V ON H.ID = V.ID_hecho\n",
    "\"\"\"\n",
    "x = pd.read_sql_query(query,con=conex)\n",
    "x.to_sql('JOIN', con=conex,if_exists='replace', index=False)"
   ]
  },
  {
   "cell_type": "code",
   "execution_count": 21,
   "metadata": {},
   "outputs": [],
   "source": [
    "x.to_excel('DB/PBI.xlsx', index=False)"
   ]
  }
 ],
 "metadata": {
  "kernelspec": {
   "display_name": "Python 3",
   "language": "python",
   "name": "python3"
  },
  "language_info": {
   "codemirror_mode": {
    "name": "ipython",
    "version": 3
   },
   "file_extension": ".py",
   "mimetype": "text/x-python",
   "name": "python",
   "nbconvert_exporter": "python",
   "pygments_lexer": "ipython3",
   "version": "3.11.9"
  }
 },
 "nbformat": 4,
 "nbformat_minor": 2
}
